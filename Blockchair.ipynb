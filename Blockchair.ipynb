{
 "cells": [
  {
   "cell_type": "code",
   "execution_count": null,
   "id": "340a0ee4",
   "metadata": {},
   "outputs": [],
   "source": [
    "import pandas as pd\n",
    "import requests"
   ]
  },
  {
   "cell_type": "markdown",
   "id": "e526ceb2",
   "metadata": {},
   "source": [
    "# Blockchain Stats"
   ]
  },
  {
   "cell_type": "code",
   "execution_count": null,
   "id": "efb5dfaa",
   "metadata": {},
   "outputs": [],
   "source": [
    "stats = requests.get('https://api.blockchair.com/stats').json()\n",
    "stats"
   ]
  },
  {
   "cell_type": "code",
   "execution_count": null,
   "id": "225fe2d9",
   "metadata": {
    "scrolled": true
   },
   "outputs": [],
   "source": [
    "chains = [chain for chain in stats['data']]\n",
    "\n",
    "stats = pd.DataFrame(stats['data'], columns=chains)\n",
    "stats.head()"
   ]
  },
  {
   "cell_type": "code",
   "execution_count": null,
   "id": "63e5e42a",
   "metadata": {},
   "outputs": [],
   "source": [
    "df = pd.json_normalize(stats.T[\"data\"])\n",
    "df.set_axis(chains, inplace=True)\n",
    "df.head()"
   ]
  },
  {
   "cell_type": "markdown",
   "id": "4526298b",
   "metadata": {},
   "source": [
    "# Specific Blockchain Stats"
   ]
  },
  {
   "cell_type": "code",
   "execution_count": null,
   "id": "2160e981",
   "metadata": {},
   "outputs": [],
   "source": [
    "requests.get('https://api.blockchair.com/ethereum/stats').json()"
   ]
  },
  {
   "cell_type": "code",
   "execution_count": null,
   "id": "b799c3d8",
   "metadata": {},
   "outputs": [],
   "source": [
    "df.T['ethereum'][:10]"
   ]
  },
  {
   "cell_type": "markdown",
   "id": "5c139d04",
   "metadata": {},
   "source": [
    "# Cross-chain Stats"
   ]
  },
  {
   "cell_type": "code",
   "execution_count": null,
   "id": "80b877ec",
   "metadata": {},
   "outputs": [],
   "source": [
    "requests.get('https://api.blockchair.com/cross-chain/binance-usd/stats').json()"
   ]
  },
  {
   "cell_type": "markdown",
   "id": "a5815094",
   "metadata": {},
   "source": [
    "# Block Data"
   ]
  },
  {
   "cell_type": "code",
   "execution_count": null,
   "id": "e3c8ba6a",
   "metadata": {},
   "outputs": [],
   "source": [
    "requests.get('https://api.blockchair.com/bitcoin/dashboards/block/0').json()['data'][0]['block']"
   ]
  },
  {
   "cell_type": "markdown",
   "id": "4c561fc3",
   "metadata": {},
   "source": [
    "# Multichain address check"
   ]
  },
  {
   "cell_type": "code",
   "execution_count": null,
   "id": "6624f66b",
   "metadata": {},
   "outputs": [],
   "source": [
    "requests.get('https://api.blockchair.com/multi/dashboards/addresses/bitcoin:1JADsmDFX9d2TXis63S9F9L8eDAXwJmnWE,ethereum:0x19DdD94B94D3c68385c897846AB44Ac99DBFAe0f,litecoin:LNAifc8nfjtDJ8azRPiancbZSBftPzhfzb').json()"
   ]
  },
  {
   "cell_type": "markdown",
   "id": "89d4abd2",
   "metadata": {},
   "source": [
    "# Raw data"
   ]
  },
  {
   "cell_type": "code",
   "execution_count": null,
   "id": "6fe0b0ba",
   "metadata": {},
   "outputs": [],
   "source": [
    "requests.get('https://api.blockchair.com/bitcoin/raw/transaction/f4184fc596403b9d638783cf57adfe4c75c605f6356fbc91338530e9831e9e16').json()"
   ]
  },
  {
   "cell_type": "markdown",
   "id": "7be0733a",
   "metadata": {},
   "source": [
    "# Blockchair Queries"
   ]
  },
  {
   "cell_type": "code",
   "execution_count": null,
   "id": "239cfc47",
   "metadata": {},
   "outputs": [],
   "source": [
    "requests.get('https://api.blockchair.com/bitcoin/blocks?q=time(2021-11-01..2021-11-17)&a=guessed_miner,count()&s=count()(desc)').json()"
   ]
  },
  {
   "cell_type": "markdown",
   "id": "1114c63c",
   "metadata": {},
   "source": [
    "# Nodes"
   ]
  },
  {
   "cell_type": "code",
   "execution_count": null,
   "id": "ff04ef29",
   "metadata": {},
   "outputs": [],
   "source": [
    "nodes = pd.DataFrame(requests.get('https://api.blockchair.com/bitcoin/nodes').json()['data']['nodes'])\n",
    "nodes.T.head()"
   ]
  },
  {
   "cell_type": "markdown",
   "id": "a36cd768",
   "metadata": {},
   "source": [
    "# Halving Countdown"
   ]
  },
  {
   "cell_type": "code",
   "execution_count": null,
   "id": "29ff5e36",
   "metadata": {},
   "outputs": [],
   "source": [
    "halving = pd.DataFrame(requests.get('https://api.blockchair.com/tools/halvening').json()['data'])\n",
    "halving"
   ]
  },
  {
   "cell_type": "markdown",
   "id": "4cd4a7c3",
   "metadata": {},
   "source": [
    "# News aggregator"
   ]
  },
  {
   "cell_type": "code",
   "execution_count": null,
   "id": "955af2fa",
   "metadata": {},
   "outputs": [],
   "source": [
    "requests.get('https://api.blockchair.com/news?q=title(~fantom),or,description(~fantom),language(en)').json()"
   ]
  },
  {
   "cell_type": "code",
   "execution_count": null,
   "id": "9b3ab3b0",
   "metadata": {},
   "outputs": [],
   "source": []
  }
 ],
 "metadata": {
  "kernelspec": {
   "display_name": "Python 3 (ipykernel)",
   "language": "python",
   "name": "python3"
  },
  "language_info": {
   "codemirror_mode": {
    "name": "ipython",
    "version": 3
   },
   "file_extension": ".py",
   "mimetype": "text/x-python",
   "name": "python",
   "nbconvert_exporter": "python",
   "pygments_lexer": "ipython3",
   "version": "3.8.8"
  }
 },
 "nbformat": 4,
 "nbformat_minor": 5
}
